{
 "cells": [
  {
   "cell_type": "code",
   "execution_count": 1,
   "id": "16f4716a",
   "metadata": {},
   "outputs": [
    {
     "name": "stderr",
     "output_type": "stream",
     "text": [
      "c:\\Users\\loicm\\miniconda3\\envs\\DeepLearningProject\\lib\\site-packages\\tqdm\\auto.py:21: TqdmWarning: IProgress not found. Please update jupyter and ipywidgets. See https://ipywidgets.readthedocs.io/en/stable/user_install.html\n",
      "  from .autonotebook import tqdm as notebook_tqdm\n"
     ]
    }
   ],
   "source": [
    "import pandas as pd\n",
    "import torch\n",
    "import numpy as np\n",
    "import matplotlib.pyplot as plt\n",
    "from sklearn.model_selection import train_test_split\n",
    "from sklearn.utils.class_weight import compute_class_weight\n",
    "from sklearn.metrics import accuracy_score, precision_recall_fscore_support\n",
    "from transformers import (\n",
    "    AutoTokenizer, AutoConfig,\n",
    "    Trainer, TrainingArguments, TrainerCallback\n",
    ")\n",
    "from transformers import BertForSequenceClassification"
   ]
  },
  {
   "cell_type": "code",
   "execution_count": 2,
   "id": "b3d5b038",
   "metadata": {},
   "outputs": [],
   "source": [
    "from transformers import TrainerCallback\n",
    "import matplotlib.pyplot as plt\n",
    "from IPython.display import clear_output\n",
    "\n",
    "class LivePlotCallback(TrainerCallback):\n",
    "    def __init__(self):\n",
    "        self.epochs = []\n",
    "        self.accuracies = []\n",
    "        self.f1s = []\n",
    "\n",
    "    def on_evaluate(self, args, state, control, metrics=None, **kwargs):\n",
    "        if metrics:\n",
    "            self.epochs.append(state.epoch)\n",
    "            self.accuracies.append(metrics.get(\"eval_accuracy\", 0))\n",
    "            self.f1s.append(metrics.get(\"eval_f1\", 0))\n",
    "\n",
    "            clear_output(wait=True)\n",
    "            plt.figure(figsize=(8, 5))\n",
    "            plt.plot(self.epochs, self.accuracies, label=\"Accuracy\")\n",
    "            plt.plot(self.epochs, self.f1s, label=\"F1 Score\")\n",
    "            plt.xlabel(\"Epoch\")\n",
    "            plt.ylabel(\"Score\")\n",
    "            plt.title(\"Live Evaluation Metrics\")\n",
    "            plt.legend()\n",
    "            plt.grid(True)\n",
    "            plt.show()"
   ]
  },
  {
   "cell_type": "markdown",
   "id": "903b7f83",
   "metadata": {},
   "source": [
    "## 1. Load data"
   ]
  },
  {
   "cell_type": "code",
   "execution_count": 3,
   "id": "a552f0d2",
   "metadata": {},
   "outputs": [],
   "source": [
    "df = pd.read_csv(\"processed_contextual_data.csv\")"
   ]
  },
  {
   "cell_type": "markdown",
   "id": "42c5aad2",
   "metadata": {},
   "source": [
    "## 2. Inject emotion into input text"
   ]
  },
  {
   "cell_type": "code",
   "execution_count": 4,
   "id": "cf8f3777",
   "metadata": {},
   "outputs": [],
   "source": [
    "df[\"input_text\"] = df.apply(lambda row: f\"[EMO] {row['emotion']} {row['text_with_context']}\", axis=1)"
   ]
  },
  {
   "cell_type": "code",
   "execution_count": 5,
   "id": "259a1d11",
   "metadata": {},
   "outputs": [],
   "source": [
    "texts = df[\"input_text\"].tolist()\n",
    "labels = df[\"label\"].tolist()"
   ]
  },
  {
   "cell_type": "markdown",
   "id": "73d275bd",
   "metadata": {},
   "source": [
    "## 3. Split data"
   ]
  },
  {
   "cell_type": "code",
   "execution_count": 6,
   "id": "b33b4144",
   "metadata": {},
   "outputs": [],
   "source": [
    "texts_train, texts_test, labels_train, labels_test = train_test_split(\n",
    "    texts, labels, test_size=0.1, random_state=42\n",
    ")"
   ]
  },
  {
   "cell_type": "markdown",
   "id": "4e64a9eb",
   "metadata": {},
   "source": [
    "## 4. Tokenizer"
   ]
  },
  {
   "cell_type": "code",
   "execution_count": 7,
   "id": "09e6fe17",
   "metadata": {},
   "outputs": [],
   "source": [
    "checkpoint = \"bert-base-uncased\"\n",
    "tokenizer = AutoTokenizer.from_pretrained(checkpoint)"
   ]
  },
  {
   "cell_type": "markdown",
   "id": "c0e20754",
   "metadata": {},
   "source": [
    "## 5. Tokenize"
   ]
  },
  {
   "cell_type": "code",
   "execution_count": 8,
   "id": "43033833",
   "metadata": {},
   "outputs": [],
   "source": [
    "train_encodings = tokenizer(texts_train, truncation=True, padding=True, max_length=512)\n",
    "test_encodings = tokenizer(texts_test, truncation=True, padding=True, max_length=512)"
   ]
  },
  {
   "cell_type": "markdown",
   "id": "0fe301ea",
   "metadata": {},
   "source": [
    "## 6. PyTorch Dataset"
   ]
  },
  {
   "cell_type": "code",
   "execution_count": 9,
   "id": "da2b468e",
   "metadata": {},
   "outputs": [],
   "source": [
    "class HateDataset(torch.utils.data.Dataset):\n",
    "    def __init__(self, encodings, labels):\n",
    "        self.encodings = encodings\n",
    "        self.labels = labels\n",
    "    def __len__(self):\n",
    "        return len(self.labels)\n",
    "    def __getitem__(self, idx):\n",
    "        item = {key: torch.tensor(val[idx]) for key, val in self.encodings.items()}\n",
    "        item[\"labels\"] = torch.tensor(self.labels[idx])\n",
    "        return item"
   ]
  },
  {
   "cell_type": "code",
   "execution_count": 10,
   "id": "a7d83aa4",
   "metadata": {},
   "outputs": [],
   "source": [
    "train_dataset = HateDataset(train_encodings, labels_train)\n",
    "test_dataset = HateDataset(test_encodings, labels_test)"
   ]
  },
  {
   "cell_type": "code",
   "execution_count": 11,
   "id": "65626aec",
   "metadata": {},
   "outputs": [
    {
     "name": "stdout",
     "output_type": "stream",
     "text": [
      "Class weights: [0.7483846  1.50650364]\n"
     ]
    }
   ],
   "source": [
    "# Compute class weights\n",
    "class_weights = compute_class_weight(class_weight=\"balanced\", classes=np.unique(labels), y=labels)\n",
    "print(\"Class weights:\", class_weights)"
   ]
  },
  {
   "cell_type": "markdown",
   "id": "bde7d006",
   "metadata": {},
   "source": [
    "## 7. Model"
   ]
  },
  {
   "cell_type": "code",
   "execution_count": 12,
   "id": "5abc7a64",
   "metadata": {},
   "outputs": [],
   "source": [
    "class CustomBERT(BertForSequenceClassification):\n",
    "    def __init__(self, config, class_weights):\n",
    "        super().__init__(config)\n",
    "        self.class_weights = torch.tensor(class_weights, dtype=torch.float)\n",
    "\n",
    "    def compute_loss(self, model, inputs, return_outputs=False):\n",
    "        labels = inputs.pop(\"labels\")\n",
    "        outputs = model(**inputs)\n",
    "        logits = outputs.logits\n",
    "        loss_fct = torch.nn.CrossEntropyLoss(weight=self.class_weights.to(model.device))\n",
    "        loss = loss_fct(logits, labels)\n",
    "        return (loss, outputs) if return_outputs else loss"
   ]
  },
  {
   "cell_type": "code",
   "execution_count": 13,
   "id": "feee829b",
   "metadata": {},
   "outputs": [
    {
     "name": "stderr",
     "output_type": "stream",
     "text": [
      "Some weights of CustomBERT were not initialized from the model checkpoint at bert-base-uncased and are newly initialized: ['classifier.bias', 'classifier.weight']\n",
      "You should probably TRAIN this model on a down-stream task to be able to use it for predictions and inference.\n"
     ]
    }
   ],
   "source": [
    "\n",
    "# Model\n",
    "config = AutoConfig.from_pretrained(checkpoint, num_labels=2)\n",
    "model = CustomBERT.from_pretrained(checkpoint, config=config, class_weights=class_weights)"
   ]
  },
  {
   "cell_type": "markdown",
   "id": "ed400780",
   "metadata": {},
   "source": [
    "## 8. Metrics"
   ]
  },
  {
   "cell_type": "code",
   "execution_count": 14,
   "id": "2ba9053a",
   "metadata": {},
   "outputs": [],
   "source": [
    "def compute_metrics(pred):\n",
    "    labels = pred.label_ids\n",
    "    preds = pred.predictions.argmax(-1)\n",
    "    acc = accuracy_score(labels, preds)\n",
    "    precision, recall, f1, _ = precision_recall_fscore_support(labels, preds, average='binary')\n",
    "    return {\"accuracy\": acc, \"precision\": precision, \"recall\": recall, \"f1\": f1}"
   ]
  },
  {
   "cell_type": "markdown",
   "id": "ac158f2a",
   "metadata": {},
   "source": [
    "## 9. Training arguments"
   ]
  },
  {
   "cell_type": "code",
   "execution_count": 15,
   "id": "174d6ecf",
   "metadata": {},
   "outputs": [
    {
     "name": "stderr",
     "output_type": "stream",
     "text": [
      "c:\\Users\\loicm\\miniconda3\\envs\\DeepLearningProject\\lib\\site-packages\\transformers\\training_args.py:1611: FutureWarning: `evaluation_strategy` is deprecated and will be removed in version 4.46 of 🤗 Transformers. Use `eval_strategy` instead\n",
      "  warnings.warn(\n"
     ]
    }
   ],
   "source": [
    "# Training args\n",
    "training_args = TrainingArguments(\n",
    "    output_dir=\"./results\",\n",
    "    evaluation_strategy=\"epoch\",\n",
    "    save_strategy=\"epoch\",\n",
    "    logging_dir=\"./logs\",\n",
    "    per_device_train_batch_size=8,\n",
    "    per_device_eval_batch_size=8,\n",
    "    num_train_epochs=5,\n",
    "    weight_decay=0.01,\n",
    ")\n"
   ]
  },
  {
   "cell_type": "markdown",
   "id": "1f216845",
   "metadata": {},
   "source": [
    "## 10. Trainer"
   ]
  },
  {
   "cell_type": "code",
   "execution_count": 16,
   "id": "fe0ed095",
   "metadata": {},
   "outputs": [
    {
     "name": "stderr",
     "output_type": "stream",
     "text": [
      "C:\\Users\\loicm\\AppData\\Local\\Temp\\ipykernel_31504\\2177575764.py:1: FutureWarning: `tokenizer` is deprecated and will be removed in version 5.0.0 for `Trainer.__init__`. Use `processing_class` instead.\n",
      "  trainer = Trainer(\n"
     ]
    }
   ],
   "source": [
    "trainer = Trainer(\n",
    "    model=model,\n",
    "    args=training_args,\n",
    "    train_dataset=train_dataset,\n",
    "    eval_dataset=test_dataset,\n",
    "    tokenizer=tokenizer,\n",
    "    compute_metrics=compute_metrics,\n",
    "    callbacks=[LivePlotCallback()],\n",
    ")"
   ]
  },
  {
   "cell_type": "markdown",
   "id": "d02ed9e5",
   "metadata": {},
   "source": [
    "## 11. Train"
   ]
  },
  {
   "cell_type": "code",
   "execution_count": 17,
   "id": "e41e2c2a",
   "metadata": {},
   "outputs": [
    {
     "data": {
      "image/png": "[encoded data removed]",
      "text/plain": [
       "<Figure size 800x500 with 1 Axes>"
      ]
     },
     "metadata": {},
     "output_type": "display_data"
    },
    {
     "data": {
      "text/plain": [
       "TrainOutput(global_step=16290, training_loss=0.4318001608383151, metrics={'train_runtime': 3940.3156, 'train_samples_per_second': 33.067, 'train_steps_per_second': 4.134, 'total_flos': 2.30332556749944e+16, 'train_loss': 0.4318001608383151, 'epoch': 5.0})"
      ]
     },
     "execution_count": 17,
     "metadata": {},
     "output_type": "execute_result"
    }
   ],
   "source": [
    "trainer.train()"
   ]
  },
  {
   "cell_type": "markdown",
   "id": "f1de9a64",
   "metadata": {},
   "source": [
    "## 12. Graph"
   ]
  },
  {
   "cell_type": "code",
   "execution_count": 18,
   "id": "f31dc9f4",
   "metadata": {},
   "outputs": [
    {
     "data": {
      "image/png": "[encoded data removed]",
      "text/plain": [
       "<Figure size 640x480 with 1 Axes>"
      ]
     },
     "metadata": {},
     "output_type": "display_data"
    }
   ],
   "source": [
    "import matplotlib.pyplot as plt\n",
    "\n",
    "# Récupérer les logs\n",
    "logs = trainer.state.log_history\n",
    "\n",
    "# Filtrer uniquement les logs d'évaluation\n",
    "eval_logs = [x for x in logs if 'eval_loss' in x]\n",
    "\n",
    "# Tracer\n",
    "epochs = [x['epoch'] for x in eval_logs]\n",
    "accuracies = [x['eval_accuracy'] for x in eval_logs]\n",
    "f1s = [x['eval_f1'] for x in eval_logs]\n",
    "\n",
    "plt.figure()\n",
    "plt.plot(epochs, accuracies, label=\"Accuracy\")\n",
    "plt.plot(epochs, f1s, label=\"F1 Score\")\n",
    "plt.xlabel(\"Epoch\")\n",
    "plt.ylabel(\"Score\")\n",
    "plt.title(\"Model Evaluation Metrics\")\n",
    "plt.legend()\n",
    "plt.grid(True)\n",
    "plt.show()"
   ]
  },
  {
   "cell_type": "code",
   "execution_count": 19,
   "id": "067ff3ac",
   "metadata": {},
   "outputs": [
    {
     "name": "stdout",
     "output_type": "stream",
     "text": [
      "Final Accuracy: 0.8819060773480663\n",
      "Final F1 Score: 0.8095768374164811\n"
     ]
    }
   ],
   "source": [
    "# print the metric final\n",
    "print(\"Final Accuracy:\", accuracies[-1])\n",
    "print(\"Final F1 Score:\", f1s[-1])\n"
   ]
  },
  {
   "cell_type": "code",
   "execution_count": 20,
   "id": "f2ed8c1e",
   "metadata": {},
   "outputs": [
    {
     "name": "stdout",
     "output_type": "stream",
     "text": [
      "Counter({0: 19345, 1: 9610})\n"
     ]
    }
   ],
   "source": [
    "# debugging\n",
    "import collections\n",
    "print(collections.Counter(labels))\n"
   ]
  },
  {
   "cell_type": "markdown",
   "id": "4383fb7a",
   "metadata": {},
   "source": [
    "## 12. Save"
   ]
  },
  {
   "cell_type": "code",
   "execution_count": 21,
   "id": "9c86bcb0",
   "metadata": {},
   "outputs": [
    {
     "data": {
      "text/plain": [
       "('./my_hate_model\\\\tokenizer_config.json',\n",
       " './my_hate_model\\\\special_tokens_map.json',\n",
       " './my_hate_model\\\\vocab.txt',\n",
       " './my_hate_model\\\\added_tokens.json',\n",
       " './my_hate_model\\\\tokenizer.json')"
      ]
     },
     "execution_count": 21,
     "metadata": {},
     "output_type": "execute_result"
    }
   ],
   "source": [
    "model.save_pretrained(\"./my_hate_model\")\n",
    "tokenizer.save_pretrained(\"./my_hate_model\")"
   ]
  }
 ],
 "metadata": {
  "kernelspec": {
   "display_name": "DeepLearningProject",
   "language": "python",
   "name": "python3"
  },
  "language_info": {
   "name": "python",
   "version": "3.10.16"
  }
 },
 "nbformat": 4,
 "nbformat_minor": 5
}
