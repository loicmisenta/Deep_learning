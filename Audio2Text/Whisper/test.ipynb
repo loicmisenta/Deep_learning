{
 "cells": [
  {
   "cell_type": "markdown",
   "metadata": {},
   "source": [
    "# 1st test on Whisper\n",
    "look faster Whisper"
   ]
  },
  {
   "cell_type": "code",
   "execution_count": 5,
   "metadata": {},
   "outputs": [],
   "source": [
    "import whisper\n",
    "import os"
   ]
  },
  {
   "cell_type": "code",
   "execution_count": 17,
   "metadata": {},
   "outputs": [
    {
     "name": "stderr",
     "output_type": "stream",
     "text": [
      "100%|███████████████████████████████████████| 139M/139M [00:56<00:00, 2.59MiB/s]\n",
      "c:\\Users\\loicm\\miniconda3\\envs\\DeepLearningProject\\lib\\site-packages\\whisper\\__init__.py:150: FutureWarning: You are using `torch.load` with `weights_only=False` (the current default value), which uses the default pickle module implicitly. It is possible to construct malicious pickle data which will execute arbitrary code during unpickling (See https://github.com/pytorch/pytorch/blob/main/SECURITY.md#untrusted-models for more details). In a future release, the default value for `weights_only` will be flipped to `True`. This limits the functions that could be executed during unpickling. Arbitrary objects will no longer be allowed to be loaded via this mode unless they are explicitly allowlisted by the user via `torch.serialization.add_safe_globals`. We recommend you start setting `weights_only=True` for any use case where you don't have full control of the loaded file. Please open an issue on GitHub for any issues related to this experimental feature.\n",
      "  checkpoint = torch.load(fp, map_location=device)\n"
     ]
    }
   ],
   "source": [
    "model = whisper.load_model(\"base\")"
   ]
  },
  {
   "cell_type": "code",
   "execution_count": 18,
   "metadata": {},
   "outputs": [],
   "source": [
    "audio_path = \"test1.mp3\"\n",
    "\n",
    "# check if the audio path is valid\n",
    "if not os.path.exists(audio_path):\n",
    "    print(\"Audio file not found\")\n"
   ]
  },
  {
   "cell_type": "code",
   "execution_count": null,
   "metadata": {},
   "outputs": [
    {
     "name": "stdout",
     "output_type": "stream",
     "text": [
      "{'text': \" Yo, what's up my fellow chink? Fellow. Sure about that. You call me cracker now? I'm good. Say the M word. M word? Yeah. No, why would I say that? It's a test.\", 'segments': [{'id': 0, 'seek': 0, 'start': 0.0, 'end': 2.0, 'text': \" Yo, what's up my fellow chink?\", 'tokens': [50364, 7616, 11, 437, 311, 493, 452, 7177, 417, 475, 30, 50464], 'temperature': 0.0, 'avg_logprob': -0.3526218038209727, 'compression_ratio': 1.2421875, 'no_speech_prob': 0.15359064936637878}, {'id': 1, 'seek': 0, 'start': 2.0, 'end': 4.0, 'text': ' Fellow.', 'tokens': [50464, 44794, 13, 50564], 'temperature': 0.0, 'avg_logprob': -0.3526218038209727, 'compression_ratio': 1.2421875, 'no_speech_prob': 0.15359064936637878}, {'id': 2, 'seek': 0, 'start': 4.0, 'end': 6.0, 'text': ' Sure about that.', 'tokens': [50564, 4894, 466, 300, 13, 50664], 'temperature': 0.0, 'avg_logprob': -0.3526218038209727, 'compression_ratio': 1.2421875, 'no_speech_prob': 0.15359064936637878}, {'id': 3, 'seek': 0, 'start': 6.0, 'end': 8.0, 'text': ' You call me cracker now?', 'tokens': [50664, 509, 818, 385, 6226, 260, 586, 30, 50764], 'temperature': 0.0, 'avg_logprob': -0.3526218038209727, 'compression_ratio': 1.2421875, 'no_speech_prob': 0.15359064936637878}, {'id': 4, 'seek': 0, 'start': 8.0, 'end': 10.0, 'text': \" I'm good.\", 'tokens': [50764, 286, 478, 665, 13, 50864], 'temperature': 0.0, 'avg_logprob': -0.3526218038209727, 'compression_ratio': 1.2421875, 'no_speech_prob': 0.15359064936637878}, {'id': 5, 'seek': 0, 'start': 10.0, 'end': 12.0, 'text': ' Say the M word.', 'tokens': [50864, 6463, 264, 376, 1349, 13, 50964], 'temperature': 0.0, 'avg_logprob': -0.3526218038209727, 'compression_ratio': 1.2421875, 'no_speech_prob': 0.15359064936637878}, {'id': 6, 'seek': 0, 'start': 12.0, 'end': 14.0, 'text': ' M word?', 'tokens': [50964, 376, 1349, 30, 51064], 'temperature': 0.0, 'avg_logprob': -0.3526218038209727, 'compression_ratio': 1.2421875, 'no_speech_prob': 0.15359064936637878}, {'id': 7, 'seek': 0, 'start': 14.0, 'end': 16.0, 'text': ' Yeah.', 'tokens': [51064, 865, 13, 51164], 'temperature': 0.0, 'avg_logprob': -0.3526218038209727, 'compression_ratio': 1.2421875, 'no_speech_prob': 0.15359064936637878}, {'id': 8, 'seek': 0, 'start': 16.0, 'end': 18.0, 'text': ' No, why would I say that?', 'tokens': [51164, 883, 11, 983, 576, 286, 584, 300, 30, 51264], 'temperature': 0.0, 'avg_logprob': -0.3526218038209727, 'compression_ratio': 1.2421875, 'no_speech_prob': 0.15359064936637878}, {'id': 9, 'seek': 0, 'start': 18.0, 'end': 20.0, 'text': \" It's a test.\", 'tokens': [51264, 467, 311, 257, 1500, 13, 51364], 'temperature': 0.0, 'avg_logprob': -0.3526218038209727, 'compression_ratio': 1.2421875, 'no_speech_prob': 0.15359064936637878}], 'language': 'en'}\n"
     ]
    }
   ],
   "source": [
    "result = whisper.transcribe(model, audio_path)\n",
    "print(result)"
   ]
  },
  {
   "cell_type": "code",
   "execution_count": 26,
   "metadata": {},
   "outputs": [
    {
     "name": "stdout",
     "output_type": "stream",
     "text": [
      "Full transcription:\n",
      " Yo, what's up my fellow chink? Fellow. Sure about that. You call me cracker now? I'm good. Say the M word. M word? Yeah. No, why would I say that? It's a test.\n"
     ]
    }
   ],
   "source": [
    "# Get full transcription text\n",
    "full_text = result[\"text\"]\n",
    "print(\"Full transcription:\")\n",
    "print(full_text)"
   ]
  },
  {
   "cell_type": "code",
   "execution_count": 27,
   "metadata": {},
   "outputs": [
    {
     "name": "stdout",
     "output_type": "stream",
     "text": [
      "[0.00 - 2.00]  Yo, what's up my fellow chink?\n",
      "[2.00 - 4.00]  Fellow.\n",
      "[4.00 - 6.00]  Sure about that.\n",
      "[6.00 - 8.00]  You call me cracker now?\n",
      "[8.00 - 10.00]  I'm good.\n",
      "[10.00 - 12.00]  Say the M word.\n",
      "[12.00 - 14.00]  M word?\n",
      "[14.00 - 16.00]  Yeah.\n",
      "[16.00 - 18.00]  No, why would I say that?\n",
      "[18.00 - 20.00]  It's a test.\n"
     ]
    }
   ],
   "source": [
    "for seg in result[\"segments\"]:\n",
    "    print(f\"[{seg['start']:.2f} - {seg['end']:.2f}] {seg['text']}\")\n"
   ]
  },
  {
   "cell_type": "code",
   "execution_count": null,
   "metadata": {},
   "outputs": [],
   "source": [
    "# Post processing\n",
    "\n",
    "# ???\n"
   ]
  },
  {
   "cell_type": "code",
   "execution_count": 21,
   "metadata": {},
   "outputs": [
    {
     "name": "stderr",
     "output_type": "stream",
     "text": [
      "Device set to use cuda:0\n"
     ]
    }
   ],
   "source": [
    "from transformers import pipeline\n",
    "\n",
    "# Hate Bert \n",
    "# Load the hate speech detection pipeline\n",
    "hate_speech_detector = pipeline(\"text-classification\", model=\"Hate-speech-CNERG/dehatebert-mono-english\")\n"
   ]
  },
  {
   "cell_type": "code",
   "execution_count": 28,
   "metadata": {},
   "outputs": [
    {
     "name": "stdout",
     "output_type": "stream",
     "text": [
      "Full Text Analysis: [{'label': 'HATE', 'score': 0.584669828414917}]\n"
     ]
    }
   ],
   "source": [
    "# Run hate speech analysis on the full text\n",
    "analysis = hate_speech_detector(full_text)\n",
    "print(\"Full Text Analysis:\", analysis)"
   ]
  },
  {
   "cell_type": "code",
   "execution_count": 30,
   "metadata": {},
   "outputs": [
    {
     "name": "stdout",
     "output_type": "stream",
     "text": [
      "\n",
      "⚠️ Full text was classified as containing HATE speech.\n",
      "→ Now trying to locate hateful segments...\n",
      "[0.00 - 2.00]  Yo, what's up my fellow chink?\n",
      "→ Segment flagged as HATE speech: [{'label': 'HATE', 'score': 0.8661972284317017}]\n"
     ]
    }
   ],
   "source": [
    "# Decide if it's hate speech\n",
    "if analysis[0][\"label\"] == \"HATE\":\n",
    "    print(\"\\n⚠️ Full text was classified as containing HATE speech.\")\n",
    "    print(\"→ Now trying to locate hateful segments...\")\n",
    "    \n",
    "    # Optional: check segments only *after* full text is flagged\n",
    "    hate_segments = []\n",
    "    for seg in result[\"segments\"]:\n",
    "        text = seg[\"text\"]\n",
    "        seg_analysis = hate_speech_detector(text)\n",
    "        if seg_analysis[0][\"label\"] == \"HATE\":\n",
    "            hate_segments.append((seg, seg_analysis))\n",
    "            print(f\"[{seg['start']:.2f} - {seg['end']:.2f}] {text}\")\n",
    "            print(f\"→ Segment flagged as HATE speech: {seg_analysis}\")\n",
    "else:\n",
    "    print(\"\\n✅ Full text is NOT classified as hate speech.\")"
   ]
  }
 ],
 "metadata": {
  "kernelspec": {
   "display_name": "DeepLearningProject",
   "language": "python",
   "name": "python3"
  },
  "language_info": {
   "codemirror_mode": {
    "name": "ipython",
    "version": 3
   },
   "file_extension": ".py",
   "mimetype": "text/x-python",
   "name": "python",
   "nbconvert_exporter": "python",
   "pygments_lexer": "ipython3",
   "version": "3.10.16"
  }
 },
 "nbformat": 4,
 "nbformat_minor": 2
}
