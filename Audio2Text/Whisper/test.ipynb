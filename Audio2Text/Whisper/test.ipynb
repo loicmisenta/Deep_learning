{
 "cells": [
  {
   "cell_type": "markdown",
   "metadata": {},
   "source": [
    "# 1st test on Whisper\n",
    "look faster Whisper"
   ]
  },
  {
   "cell_type": "code",
   "execution_count": 2,
   "metadata": {},
   "outputs": [],
   "source": [
    "import whisper\n",
    "import os"
   ]
  },
  {
   "cell_type": "code",
   "execution_count": 3,
   "metadata": {},
   "outputs": [
    {
     "name": "stderr",
     "output_type": "stream",
     "text": [
      "c:\\Users\\loicm\\miniconda3\\envs\\DeepLearningProject\\lib\\site-packages\\whisper\\__init__.py:150: FutureWarning: You are using `torch.load` with `weights_only=False` (the current default value), which uses the default pickle module implicitly. It is possible to construct malicious pickle data which will execute arbitrary code during unpickling (See https://github.com/pytorch/pytorch/blob/main/SECURITY.md#untrusted-models for more details). In a future release, the default value for `weights_only` will be flipped to `True`. This limits the functions that could be executed during unpickling. Arbitrary objects will no longer be allowed to be loaded via this mode unless they are explicitly allowlisted by the user via `torch.serialization.add_safe_globals`. We recommend you start setting `weights_only=True` for any use case where you don't have full control of the loaded file. Please open an issue on GitHub for any issues related to this experimental feature.\n",
      "  checkpoint = torch.load(fp, map_location=device)\n"
     ]
    }
   ],
   "source": [
    "model = whisper.load_model(\"base\")"
   ]
  },
  {
   "cell_type": "code",
   "execution_count": 32,
   "metadata": {},
   "outputs": [],
   "source": [
    "audio_path = \"../../dataset/non_hate_audios_clean/non_hate_video_3.wav\"\n",
    "\n",
    "# check if the audio path is valid\n",
    "if not os.path.exists(audio_path):\n",
    "    print(\"Audio file not found\")\n"
   ]
  },
  {
   "cell_type": "code",
   "execution_count": 33,
   "metadata": {},
   "outputs": [
    {
     "name": "stdout",
     "output_type": "stream",
     "text": [
      "{'text': \" In Lehigh County authorities released the disturbing details of a crime the district attorney calls Repugnant a 22 year old man as accused of targeting and sexually assaulting children at a daycare center in Whitehall township Highwood Institute's important map of Trillow is there and Matt that suspect was just arraigned this morning That's right. He's charged with TV its sexual intercourse of a child authorities tell us there's assaults happen at this daycare behind me over several years Did Zimmerman work here? No. Well, when he answers the door at a lot like home daycare near Almond Town says 22 year old Zachary Zimmerman did not work there before slamming the door. We approve the charges But Lehigh County District Attorney Jim Martin says Zimmerman sexually assaulted three girls there. I witnessed news found the daycare was located at the home where Zimmerman lived. Anytime a child is a victim of sexual assault it's it's repugnant It's unfortunate obviously into crime Zimmerman faces deviate sexual intercourse with the child charges He allegedly assaulted three children over and over again from 2011 to 2017 But Zimmerman kept under the radar of Whitehall township police until this year when the victims came forward During one instance reported to police in July victim one disclosed that when she was approximately 10 years old in 2011 Zachary Zimmerman Kister on the mouth made victim one perform or sex on him victims came forward in in July June and April Why were charges just final because it was an investigation Yeah, we don't just file charges immediately. We've vestigate And Zachary Zimmerman was arraigned this morning. He was taken to the Lehigh County jail after not being able to post a 75 thousand dollar bail reporting live in Lehigh County Matt Petrilo CBS 3 I witness news. All right, Matt. Thank you\", 'segments': [{'id': 0, 'seek': 0, 'start': 0.0, 'end': 5.04, 'text': ' In Lehigh County authorities released the disturbing details of a crime the district attorney calls', 'tokens': [50364, 682, 1456, 21454, 6658, 12076, 4736, 264, 21903, 4365, 295, 257, 7206, 264, 6566, 13469, 5498, 50616], 'temperature': 0.0, 'avg_logprob': -0.3616327758229107, 'compression_ratio': 1.6378737541528239, 'no_speech_prob': 0.1288091391324997}, {'id': 1, 'seek': 0, 'start': 5.36, 'end': 12.4, 'text': ' Repugnant a 22 year old man as accused of targeting and sexually assaulting children at a daycare center in Whitehall township', 'tokens': [50632, 3696, 697, 25928, 257, 5853, 1064, 1331, 587, 382, 17085, 295, 17918, 293, 26791, 12458, 278, 2227, 412, 257, 786, 5685, 3056, 294, 5552, 43864, 3954, 5278, 50984], 'temperature': 0.0, 'avg_logprob': -0.3616327758229107, 'compression_ratio': 1.6378737541528239, 'no_speech_prob': 0.1288091391324997}, {'id': 2, 'seek': 0, 'start': 12.8, 'end': 17.76, 'text': \" Highwood Institute's important map of Trillow is there and Matt that suspect was just arraigned this morning\", 'tokens': [51004, 5229, 6092, 9446, 311, 1021, 4471, 295, 1765, 373, 305, 307, 456, 293, 7397, 300, 9091, 390, 445, 594, 424, 16690, 341, 2446, 51252], 'temperature': 0.0, 'avg_logprob': -0.3616327758229107, 'compression_ratio': 1.6378737541528239, 'no_speech_prob': 0.1288091391324997}, {'id': 3, 'seek': 0, 'start': 19.84, 'end': 28.0, 'text': \" That's right. He's charged with TV its sexual intercourse of a child authorities tell us there's assaults happen at this daycare behind me over several years\", 'tokens': [51356, 663, 311, 558, 13, 634, 311, 11109, 365, 3558, 1080, 6701, 728, 31913, 295, 257, 1440, 12076, 980, 505, 456, 311, 12458, 82, 1051, 412, 341, 786, 5685, 2261, 385, 670, 2940, 924, 51764], 'temperature': 0.0, 'avg_logprob': -0.3616327758229107, 'compression_ratio': 1.6378737541528239, 'no_speech_prob': 0.1288091391324997}, {'id': 4, 'seek': 2800, 'start': 28.0, 'end': 40.88, 'text': ' Did Zimmerman work here? No. Well, when he answers the door at a lot like home daycare near Almond Town says 22 year old Zachary Zimmerman did not work there before slamming the door. We approve the charges', 'tokens': [50364, 2589, 37243, 1601, 589, 510, 30, 883, 13, 1042, 11, 562, 415, 6338, 264, 2853, 412, 257, 688, 411, 1280, 786, 5685, 2651, 967, 12171, 15954, 1619, 5853, 1064, 1331, 21028, 822, 37243, 1601, 630, 406, 589, 456, 949, 25617, 2810, 264, 2853, 13, 492, 18827, 264, 12235, 51008], 'temperature': 0.0, 'avg_logprob': -0.35811654576715435, 'compression_ratio': 1.6272401433691757, 'no_speech_prob': 0.023682596161961555}, {'id': 5, 'seek': 2800, 'start': 40.96, 'end': 50.56, 'text': ' But Lehigh County District Attorney Jim Martin says Zimmerman sexually assaulted three girls there. I witnessed news found the daycare was located at the home where Zimmerman lived.', 'tokens': [51012, 583, 1456, 21454, 6658, 14374, 23283, 6637, 9184, 1619, 37243, 1601, 26791, 44910, 1045, 4519, 456, 13, 286, 21519, 2583, 1352, 264, 786, 5685, 390, 6870, 412, 264, 1280, 689, 37243, 1601, 5152, 13, 51492], 'temperature': 0.0, 'avg_logprob': -0.35811654576715435, 'compression_ratio': 1.6272401433691757, 'no_speech_prob': 0.023682596161961555}, {'id': 6, 'seek': 2800, 'start': 50.64, 'end': 54.64, 'text': \" Anytime a child is a victim of sexual assault it's it's repugnant\", 'tokens': [51496, 39401, 257, 1440, 307, 257, 6760, 295, 6701, 12458, 309, 311, 309, 311, 1085, 697, 25928, 51696], 'temperature': 0.0, 'avg_logprob': -0.35811654576715435, 'compression_ratio': 1.6272401433691757, 'no_speech_prob': 0.023682596161961555}, {'id': 7, 'seek': 5464, 'start': 55.28, 'end': 61.44, 'text': \" It's unfortunate obviously into crime Zimmerman faces deviate sexual intercourse with the child charges\", 'tokens': [50396, 467, 311, 17843, 2745, 666, 7206, 37243, 1601, 8475, 1905, 13024, 6701, 728, 31913, 365, 264, 1440, 12235, 50704], 'temperature': 0.0, 'avg_logprob': -0.20322261537824357, 'compression_ratio': 1.5769230769230769, 'no_speech_prob': 0.002757385838776827}, {'id': 8, 'seek': 5464, 'start': 61.68, 'end': 68.16, 'text': ' He allegedly assaulted three children over and over again from 2011 to 2017', 'tokens': [50716, 634, 26794, 44910, 1045, 2227, 670, 293, 670, 797, 490, 10154, 281, 6591, 51040], 'temperature': 0.0, 'avg_logprob': -0.20322261537824357, 'compression_ratio': 1.5769230769230769, 'no_speech_prob': 0.002757385838776827}, {'id': 9, 'seek': 5464, 'start': 68.4, 'end': 74.48, 'text': ' But Zimmerman kept under the radar of Whitehall township police until this year when the victims came forward', 'tokens': [51052, 583, 37243, 1601, 4305, 833, 264, 16544, 295, 5552, 43864, 3954, 5278, 3804, 1826, 341, 1064, 562, 264, 11448, 1361, 2128, 51356], 'temperature': 0.0, 'avg_logprob': -0.20322261537824357, 'compression_ratio': 1.5769230769230769, 'no_speech_prob': 0.002757385838776827}, {'id': 10, 'seek': 5464, 'start': 74.72, 'end': 82.16, 'text': ' During one instance reported to police in July victim one disclosed that when she was approximately 10 years old in 2011', 'tokens': [51368, 6842, 472, 5197, 7055, 281, 3804, 294, 7370, 6760, 472, 17092, 1744, 300, 562, 750, 390, 10447, 1266, 924, 1331, 294, 10154, 51740], 'temperature': 0.0, 'avg_logprob': -0.20322261537824357, 'compression_ratio': 1.5769230769230769, 'no_speech_prob': 0.002757385838776827}, {'id': 11, 'seek': 8216, 'start': 82.56, 'end': 91.36, 'text': ' Zachary Zimmerman Kister on the mouth made victim one perform or sex on him victims came forward in in July June and April', 'tokens': [50384, 21028, 822, 37243, 1601, 591, 1964, 322, 264, 4525, 1027, 6760, 472, 2042, 420, 3260, 322, 796, 11448, 1361, 2128, 294, 294, 7370, 6928, 293, 6929, 50824], 'temperature': 0.0, 'avg_logprob': -0.29414117601182727, 'compression_ratio': 1.5355648535564854, 'no_speech_prob': 0.014495089650154114}, {'id': 12, 'seek': 8216, 'start': 91.6, 'end': 94.8, 'text': ' Why were charges just final because it was an investigation', 'tokens': [50836, 1545, 645, 12235, 445, 2572, 570, 309, 390, 364, 9627, 50996], 'temperature': 0.0, 'avg_logprob': -0.29414117601182727, 'compression_ratio': 1.5355648535564854, 'no_speech_prob': 0.014495089650154114}, {'id': 13, 'seek': 8216, 'start': 95.75999999999999, 'end': 98.56, 'text': \" Yeah, we don't just file charges immediately. We've vestigate\", 'tokens': [51044, 865, 11, 321, 500, 380, 445, 3991, 12235, 4258, 13, 492, 600, 15814, 328, 473, 51184], 'temperature': 0.0, 'avg_logprob': -0.29414117601182727, 'compression_ratio': 1.5355648535564854, 'no_speech_prob': 0.014495089650154114}, {'id': 14, 'seek': 8216, 'start': 100.88, 'end': 107.03999999999999, 'text': ' And Zachary Zimmerman was arraigned this morning. He was taken to the Lehigh County jail after not being able to post a 75', 'tokens': [51300, 400, 21028, 822, 37243, 1601, 390, 594, 424, 16690, 341, 2446, 13, 634, 390, 2726, 281, 264, 1456, 21454, 6658, 10511, 934, 406, 885, 1075, 281, 2183, 257, 9562, 51608], 'temperature': 0.0, 'avg_logprob': -0.29414117601182727, 'compression_ratio': 1.5355648535564854, 'no_speech_prob': 0.014495089650154114}, {'id': 15, 'seek': 10704, 'start': 107.04, 'end': 113.44000000000001, 'text': ' thousand dollar bail reporting live in Lehigh County Matt Petrilo CBS 3 I witness news. All right, Matt. Thank you', 'tokens': [50372, 4714, 7241, 19313, 10031, 1621, 294, 1456, 21454, 6658, 7397, 10472, 81, 10720, 35856, 805, 286, 7286, 2583, 13, 1057, 558, 11, 7397, 13, 1044, 291, 50684], 'temperature': 0.0, 'avg_logprob': -0.41453594997011384, 'compression_ratio': 1.0754716981132075, 'no_speech_prob': 0.0715523213148117}], 'language': 'en'}\n"
     ]
    }
   ],
   "source": [
    "result = whisper.transcribe(model, audio_path)\n",
    "print(result)"
   ]
  },
  {
   "cell_type": "code",
   "execution_count": 34,
   "metadata": {},
   "outputs": [
    {
     "name": "stdout",
     "output_type": "stream",
     "text": [
      "Full transcription:\n",
      " In Lehigh County authorities released the disturbing details of a crime the district attorney calls Repugnant a 22 year old man as accused of targeting and sexually assaulting children at a daycare center in Whitehall township Highwood Institute's important map of Trillow is there and Matt that suspect was just arraigned this morning That's right. He's charged with TV its sexual intercourse of a child authorities tell us there's assaults happen at this daycare behind me over several years Did Zimmerman work here? No. Well, when he answers the door at a lot like home daycare near Almond Town says 22 year old Zachary Zimmerman did not work there before slamming the door. We approve the charges But Lehigh County District Attorney Jim Martin says Zimmerman sexually assaulted three girls there. I witnessed news found the daycare was located at the home where Zimmerman lived. Anytime a child is a victim of sexual assault it's it's repugnant It's unfortunate obviously into crime Zimmerman faces deviate sexual intercourse with the child charges He allegedly assaulted three children over and over again from 2011 to 2017 But Zimmerman kept under the radar of Whitehall township police until this year when the victims came forward During one instance reported to police in July victim one disclosed that when she was approximately 10 years old in 2011 Zachary Zimmerman Kister on the mouth made victim one perform or sex on him victims came forward in in July June and April Why were charges just final because it was an investigation Yeah, we don't just file charges immediately. We've vestigate And Zachary Zimmerman was arraigned this morning. He was taken to the Lehigh County jail after not being able to post a 75 thousand dollar bail reporting live in Lehigh County Matt Petrilo CBS 3 I witness news. All right, Matt. Thank you\n"
     ]
    }
   ],
   "source": [
    "# Get full transcription text\n",
    "full_text = result[\"text\"]\n",
    "print(\"Full transcription:\")\n",
    "print(full_text)"
   ]
  },
  {
   "cell_type": "code",
   "execution_count": 35,
   "metadata": {},
   "outputs": [
    {
     "name": "stdout",
     "output_type": "stream",
     "text": [
      "[0.00 - 5.04]  In Lehigh County authorities released the disturbing details of a crime the district attorney calls\n",
      "[5.36 - 12.40]  Repugnant a 22 year old man as accused of targeting and sexually assaulting children at a daycare center in Whitehall township\n",
      "[12.80 - 17.76]  Highwood Institute's important map of Trillow is there and Matt that suspect was just arraigned this morning\n",
      "[19.84 - 28.00]  That's right. He's charged with TV its sexual intercourse of a child authorities tell us there's assaults happen at this daycare behind me over several years\n",
      "[28.00 - 40.88]  Did Zimmerman work here? No. Well, when he answers the door at a lot like home daycare near Almond Town says 22 year old Zachary Zimmerman did not work there before slamming the door. We approve the charges\n",
      "[40.96 - 50.56]  But Lehigh County District Attorney Jim Martin says Zimmerman sexually assaulted three girls there. I witnessed news found the daycare was located at the home where Zimmerman lived.\n",
      "[50.64 - 54.64]  Anytime a child is a victim of sexual assault it's it's repugnant\n",
      "[55.28 - 61.44]  It's unfortunate obviously into crime Zimmerman faces deviate sexual intercourse with the child charges\n",
      "[61.68 - 68.16]  He allegedly assaulted three children over and over again from 2011 to 2017\n",
      "[68.40 - 74.48]  But Zimmerman kept under the radar of Whitehall township police until this year when the victims came forward\n",
      "[74.72 - 82.16]  During one instance reported to police in July victim one disclosed that when she was approximately 10 years old in 2011\n",
      "[82.56 - 91.36]  Zachary Zimmerman Kister on the mouth made victim one perform or sex on him victims came forward in in July June and April\n",
      "[91.60 - 94.80]  Why were charges just final because it was an investigation\n",
      "[95.76 - 98.56]  Yeah, we don't just file charges immediately. We've vestigate\n",
      "[100.88 - 107.04]  And Zachary Zimmerman was arraigned this morning. He was taken to the Lehigh County jail after not being able to post a 75\n",
      "[107.04 - 113.44]  thousand dollar bail reporting live in Lehigh County Matt Petrilo CBS 3 I witness news. All right, Matt. Thank you\n"
     ]
    }
   ],
   "source": [
    "for seg in result[\"segments\"]:\n",
    "    print(f\"[{seg['start']:.2f} - {seg['end']:.2f}] {seg['text']}\")\n"
   ]
  },
  {
   "cell_type": "markdown",
   "metadata": {},
   "source": [
    "ajouter ca au CSV -> 2 col"
   ]
  },
  {
   "cell_type": "code",
   "execution_count": null,
   "metadata": {},
   "outputs": [],
   "source": [
    "# Post processing\n",
    "\n",
    "# ???\n"
   ]
  },
  {
   "cell_type": "code",
   "execution_count": 36,
   "metadata": {},
   "outputs": [
    {
     "name": "stderr",
     "output_type": "stream",
     "text": [
      "Device set to use cuda:0\n"
     ]
    }
   ],
   "source": [
    "from transformers import pipeline\n",
    "\n",
    "# Hate Bert \n",
    "# Load the hate speech detection pipeline\n",
    "hate_speech_detector = pipeline(\"text-classification\", model=\"Hate-speech-CNERG/dehatebert-mono-english\")\n"
   ]
  },
  {
   "cell_type": "code",
   "execution_count": 37,
   "metadata": {},
   "outputs": [
    {
     "name": "stdout",
     "output_type": "stream",
     "text": [
      "Full Text Analysis: [{'label': 'NON_HATE', 'score': 0.8897497057914734}]\n"
     ]
    }
   ],
   "source": [
    "# Run hate speech analysis on the full text\n",
    "analysis = hate_speech_detector(full_text)\n",
    "print(\"Full Text Analysis:\", analysis)"
   ]
  },
  {
   "cell_type": "code",
   "execution_count": 15,
   "metadata": {},
   "outputs": [
    {
     "name": "stdout",
     "output_type": "stream",
     "text": [
      "\n",
      "⚠️ Full text was classified as containing HATE speech.\n",
      "→ Now trying to locate hateful segments...\n"
     ]
    },
    {
     "name": "stderr",
     "output_type": "stream",
     "text": [
      "You seem to be using the pipelines sequentially on GPU. In order to maximize efficiency please use a dataset\n"
     ]
    },
    {
     "name": "stdout",
     "output_type": "stream",
     "text": [
      "[17.20 - 20.72]  if that's how you solve it in a big black spute you know\n",
      "→ Segment flagged as HATE speech: [{'label': 'HATE', 'score': 0.8409350514411926}]\n",
      "[44.00 - 48.00]  Oh, I'm gonna slam all the poor nigger, hating me.\n",
      "→ Segment flagged as HATE speech: [{'label': 'HATE', 'score': 0.9118627309799194}]\n",
      "[84.00 - 86.00]  I'll follow the silver nigger, bro.\n",
      "→ Segment flagged as HATE speech: [{'label': 'HATE', 'score': 0.9131659269332886}]\n",
      "[100.00 - 102.00]  The niggers have.\n",
      "→ Segment flagged as HATE speech: [{'label': 'HATE', 'score': 0.9139613509178162}]\n",
      "[112.00 - 116.00]  Let's get rid of nigger, hating me.\n",
      "→ Segment flagged as HATE speech: [{'label': 'HATE', 'score': 0.9114501476287842}]\n"
     ]
    }
   ],
   "source": [
    "# Decide if it's hate speech\n",
    "if analysis[0][\"label\"] == \"HATE\":\n",
    "    print(\"\\n⚠️ Full text was classified as containing HATE speech.\")\n",
    "    print(\"→ Now trying to locate hateful segments...\")\n",
    "    \n",
    "    # Optional: check segments only *after* full text is flagged\n",
    "    hate_segments = []\n",
    "    for seg in result[\"segments\"]:\n",
    "        text = seg[\"text\"]\n",
    "        seg_analysis = hate_speech_detector(text)\n",
    "        if seg_analysis[0][\"label\"] == \"HATE\":\n",
    "            hate_segments.append((seg, seg_analysis))\n",
    "            print(f\"[{seg['start']:.2f} - {seg['end']:.2f}] {text}\")\n",
    "            print(f\"→ Segment flagged as HATE speech: {seg_analysis}\")\n",
    "else:\n",
    "    print(\"\\n✅ Full text is NOT classified as hate speech.\")"
   ]
  },
  {
   "cell_type": "markdown",
   "metadata": {},
   "source": [
    "tester avec les segment. et comparer clean pas clean\n",
    "\n",
    "les segments "
   ]
  },
  {
   "cell_type": "markdown",
   "metadata": {},
   "source": []
  }
 ],
 "metadata": {
  "kernelspec": {
   "display_name": "DeepLearningProject",
   "language": "python",
   "name": "python3"
  },
  "language_info": {
   "codemirror_mode": {
    "name": "ipython",
    "version": 3
   },
   "file_extension": ".py",
   "mimetype": "text/x-python",
   "name": "python",
   "nbconvert_exporter": "python",
   "pygments_lexer": "ipython3",
   "version": "3.10.16"
  }
 },
 "nbformat": 4,
 "nbformat_minor": 2
}
