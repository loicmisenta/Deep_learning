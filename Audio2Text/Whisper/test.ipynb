{
 "cells": [
  {
   "cell_type": "markdown",
   "metadata": {},
   "source": [
    "# 1st test on Whisper\n",
    "look faster Whisper"
   ]
  },
  {
   "cell_type": "code",
   "execution_count": 7,
   "metadata": {},
   "outputs": [],
   "source": [
    "import whisper\n",
    "import os"
   ]
  },
  {
   "cell_type": "code",
   "execution_count": 3,
   "metadata": {},
   "outputs": [
    {
     "name": "stderr",
     "output_type": "stream",
     "text": [
      "100%|█████████████████████████████████████| 72.1M/72.1M [00:17<00:00, 4.22MiB/s]\n",
      "c:\\Users\\loicm\\miniconda3\\envs\\DeepLearningProject\\lib\\site-packages\\whisper\\__init__.py:150: FutureWarning: You are using `torch.load` with `weights_only=False` (the current default value), which uses the default pickle module implicitly. It is possible to construct malicious pickle data which will execute arbitrary code during unpickling (See https://github.com/pytorch/pytorch/blob/main/SECURITY.md#untrusted-models for more details). In a future release, the default value for `weights_only` will be flipped to `True`. This limits the functions that could be executed during unpickling. Arbitrary objects will no longer be allowed to be loaded via this mode unless they are explicitly allowlisted by the user via `torch.serialization.add_safe_globals`. We recommend you start setting `weights_only=True` for any use case where you don't have full control of the loaded file. Please open an issue on GitHub for any issues related to this experimental feature.\n",
      "  checkpoint = torch.load(fp, map_location=device)\n"
     ]
    }
   ],
   "source": [
    "model = whisper.load_model(\"tiny\")"
   ]
  },
  {
   "cell_type": "code",
   "execution_count": 10,
   "metadata": {},
   "outputs": [],
   "source": [
    "audio_path = \"test1.mp3\"\n",
    "\n",
    "# check if the audio path is valid\n",
    "if not os.path.exists(audio_path):\n",
    "    print(\"Audio file not found\")\n"
   ]
  },
  {
   "cell_type": "code",
   "execution_count": 11,
   "metadata": {},
   "outputs": [
    {
     "name": "stdout",
     "output_type": "stream",
     "text": [
      "{'text': \" Yo, what's up my fellow chink? Fellow. Sure about that. You call me cracker now. I'm good. Say the M word. M word. Yeah. No, why would I say that? It's a test.\", 'segments': [{'id': 0, 'seek': 0, 'start': 0.0, 'end': 2.0, 'text': \" Yo, what's up my fellow chink?\", 'tokens': [50364, 7616, 11, 437, 311, 493, 452, 7177, 417, 475, 30, 50464], 'temperature': 0.0, 'avg_logprob': -0.740815283546985, 'compression_ratio': 1.2519685039370079, 'no_speech_prob': 0.09617451578378677}, {'id': 1, 'seek': 0, 'start': 2.7600000000000002, 'end': 3.7600000000000002, 'text': ' Fellow.', 'tokens': [50502, 44794, 13, 50552], 'temperature': 0.0, 'avg_logprob': -0.740815283546985, 'compression_ratio': 1.2519685039370079, 'no_speech_prob': 0.09617451578378677}, {'id': 2, 'seek': 0, 'start': 4.76, 'end': 5.76, 'text': ' Sure about that.', 'tokens': [50602, 4894, 466, 300, 13, 50652], 'temperature': 0.0, 'avg_logprob': -0.740815283546985, 'compression_ratio': 1.2519685039370079, 'no_speech_prob': 0.09617451578378677}, {'id': 3, 'seek': 0, 'start': 6.32, 'end': 7.76, 'text': ' You call me cracker now.', 'tokens': [50680, 509, 818, 385, 6226, 260, 586, 13, 50752], 'temperature': 0.0, 'avg_logprob': -0.740815283546985, 'compression_ratio': 1.2519685039370079, 'no_speech_prob': 0.09617451578378677}, {'id': 4, 'seek': 0, 'start': 9.0, 'end': 10.0, 'text': \" I'm good.\", 'tokens': [50814, 286, 478, 665, 13, 50864], 'temperature': 0.0, 'avg_logprob': -0.740815283546985, 'compression_ratio': 1.2519685039370079, 'no_speech_prob': 0.09617451578378677}, {'id': 5, 'seek': 0, 'start': 11.24, 'end': 12.24, 'text': ' Say the M word.', 'tokens': [50926, 6463, 264, 376, 1349, 13, 50976], 'temperature': 0.0, 'avg_logprob': -0.740815283546985, 'compression_ratio': 1.2519685039370079, 'no_speech_prob': 0.09617451578378677}, {'id': 6, 'seek': 0, 'start': 13.24, 'end': 14.24, 'text': ' M word.', 'tokens': [51026, 376, 1349, 13, 51076], 'temperature': 0.0, 'avg_logprob': -0.740815283546985, 'compression_ratio': 1.2519685039370079, 'no_speech_prob': 0.09617451578378677}, {'id': 7, 'seek': 0, 'start': 14.64, 'end': 15.24, 'text': ' Yeah.', 'tokens': [51096, 865, 13, 51126], 'temperature': 0.0, 'avg_logprob': -0.740815283546985, 'compression_ratio': 1.2519685039370079, 'no_speech_prob': 0.09617451578378677}, {'id': 8, 'seek': 0, 'start': 15.64, 'end': 17.64, 'text': ' No, why would I say that?', 'tokens': [51146, 883, 11, 983, 576, 286, 584, 300, 30, 51246], 'temperature': 0.0, 'avg_logprob': -0.740815283546985, 'compression_ratio': 1.2519685039370079, 'no_speech_prob': 0.09617451578378677}, {'id': 9, 'seek': 0, 'start': 19.64, 'end': 20.64, 'text': \" It's a test.\", 'tokens': [51346, 467, 311, 257, 1500, 13, 51396], 'temperature': 0.0, 'avg_logprob': -0.740815283546985, 'compression_ratio': 1.2519685039370079, 'no_speech_prob': 0.09617451578378677}], 'language': 'en'}\n"
     ]
    }
   ],
   "source": [
    "result = whisper.transcribe(model, audio_path)\n",
    "print(result)"
   ]
  },
  {
   "cell_type": "code",
   "execution_count": 19,
   "metadata": {},
   "outputs": [
    {
     "name": "stdout",
     "output_type": "stream",
     "text": [
      "[0.00 - 2.00]  Yo, what's up my fellow chink?\n",
      "[2.76 - 3.76]  Fellow.\n",
      "[4.76 - 5.76]  Sure about that.\n",
      "[6.32 - 7.76]  You call me cracker now.\n",
      "[9.00 - 10.00]  I'm good.\n",
      "[11.24 - 12.24]  Say the M word.\n",
      "[13.24 - 14.24]  M word.\n",
      "[14.64 - 15.24]  Yeah.\n",
      "[15.64 - 17.64]  No, why would I say that?\n",
      "[19.64 - 20.64]  It's a test.\n"
     ]
    }
   ],
   "source": [
    "for seg in result[\"segments\"]:\n",
    "    print(f\"[{seg['start']:.2f} - {seg['end']:.2f}] {seg['text']}\")\n"
   ]
  }
 ],
 "metadata": {
  "kernelspec": {
   "display_name": "DeepLearningProject",
   "language": "python",
   "name": "python3"
  },
  "language_info": {
   "codemirror_mode": {
    "name": "ipython",
    "version": 3
   },
   "file_extension": ".py",
   "mimetype": "text/x-python",
   "name": "python",
   "nbconvert_exporter": "python",
   "pygments_lexer": "ipython3",
   "version": "3.10.16"
  }
 },
 "nbformat": 4,
 "nbformat_minor": 2
}
